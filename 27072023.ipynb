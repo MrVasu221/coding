{
  "nbformat": 4,
  "nbformat_minor": 0,
  "metadata": {
    "colab": {
      "provenance": [],
      "authorship_tag": "ABX9TyMnFrvzpnjap+WHTqVXyblC"
    },
    "kernelspec": {
      "name": "python3",
      "display_name": "Python 3"
    },
    "language_info": {
      "name": "python"
    }
  },
  "cells": [
    {
      "cell_type": "code",
      "execution_count": null,
      "metadata": {
        "id": "jLCUAvufVfa9"
      },
      "outputs": [],
      "source": [
        "nums=[9,81,76]\n",
        "s=\"\"\n",
        "for i in nums:\n",
        "  s=s+str(i)\n",
        "res=[]\n",
        "for i in s:\n",
        "  res.append(int(i))\n",
        "print(res)"
      ]
    }
  ]
}